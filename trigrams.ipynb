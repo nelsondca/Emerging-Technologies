{
 "cells": [
  {
   "cell_type": "markdown",
   "metadata": {},
   "source": [
    "INTRODUCTION\n",
    "\n",
    "This project aims to build a trigram model using text from books available on Project Gutenberg. A trigram is only a group of three characters in a row from a piece of text. Counting how many times each of these three-character sequences shows up, we can start to see patterns in how the English languages is used."
   ]
  },
  {
   "cell_type": "markdown",
   "metadata": {},
   "source": [
    "DATA COLLECTION"
   ]
  },
  {
   "cell_type": "markdown",
   "metadata": {},
   "source": [
    "Reading text books from Project Gutenberg in UTF8 format \n",
    "\n",
    "https://www.gutenberg.org/"
   ]
  },
  {
   "cell_type": "code",
   "execution_count": 1,
   "metadata": {},
   "outputs": [],
   "source": [
    "with open('/workspaces/Emerging-Technologies/Data/Frankenstein.txt' ,'r', encoding='utf-8') as file: #going to the file path and opening the book in read mode, using UTF-8 encoding\n",
    "    text = file.read() #the 'with' ensures the file is closed after reading\n",
    "\n",
    "# Print the frist 500 characters to check if its working\n",
    "# print(\"text sample\", text[:500])"
   ]
  },
  {
   "cell_type": "markdown",
   "metadata": {},
   "source": [
    "TEXT PROCESSING\n",
    "\n",
    "re - Regular Expression Operations \n",
    "\n",
    "https://docs.python.org/3/library/re.html"
   ]
  },
  {
   "cell_type": "code",
   "execution_count": 2,
   "metadata": {},
   "outputs": [],
   "source": [
    "import re # importing regular expressions module to use for pattern matching\n",
    "\n",
    "# Creating a fucntion to process the input text\n",
    "def processed_text(text):\n",
    "\n",
    "    #Removing any unwanted chars that are not letters,periods, or spaces\n",
    "    cleaned_text = re.sub(r'[^A-Za-z. ]', '',text)# [...] this patterns matches any character that is not an uppercase letter, lowecase letter, a period, or a space, and replaces them with an empty string\n",
    "\n",
    "    #Returns the processed text with uppercase\n",
    "    return cleaned_text.upper()\n",
    "\n",
    "#Applies the process function to the text variable\n",
    "processed_text = processed_text(text)\n",
    "\n",
    "#print(\"Processed text sample:\", processed_text[:500])"
   ]
  },
  {
   "cell_type": "markdown",
   "metadata": {},
   "source": [
    "TRIGRAM DESIGN FOR A SINGLE TEXT\n"
   ]
  },
  {
   "cell_type": "markdown",
   "metadata": {},
   "source": [
    "A trigram is a sequence of three characters, so we need to go to through the processe text, grab three characters at a time, and count the number of times they occur. In order to do this we use Python's, defaultdict from the collections module. \n",
    "\n",
    "The defaultdict(int) creates a dictionary where each trigram has a default value of 0.\n",
    "\n",
    "When we find a new trigram, its count starts at 0, and we can increment it directly.\n"
   ]
  },
  {
   "cell_type": "code",
   "execution_count": 4,
   "metadata": {},
   "outputs": [
    {
     "name": "stdout",
     "output_type": "stream",
     "text": [
      "Trigram: IT  | Count: 2\n",
      "Trigram: T I | Count: 3\n",
      "Trigram:  IS | Count: 2\n",
      "Trigram: IS  | Count: 1\n",
      "Trigram: S W | Count: 1\n",
      "Trigram:  WH | Count: 1\n",
      "Trigram: WHA | Count: 1\n",
      "Trigram: HAT | Count: 1\n",
      "Trigram: AT  | Count: 1\n",
      "Trigram:  IT | Count: 1\n",
      "Trigram: IS. | Count: 1\n"
     ]
    }
   ],
   "source": [
    "from collections import defaultdict # Importing dictionary from collections module to create a dictionary with default values\n",
    "\n",
    "# Defining a function to create a trigram model from the input text\n",
    "def create_trigram_model(text):\n",
    "    # Create a dictionary with a default value of 0 which will store the counts of each trigram\n",
    "    trigram_counts = defaultdict(int)\n",
    "\n",
    "    # Loop through the text, stopping 2 characters before the end to form trigrams\n",
    "    for i in range(len(text)-2):\n",
    "\n",
    "        # Extract a trigram starting at position 'i'\n",
    "        trigram = text[i:i+3]\n",
    "\n",
    "        #increment the count of the trigram in the dictionary\n",
    "        trigram_counts[trigram] += 1\n",
    "\n",
    "    # Return the dictionary containing \n",
    "    return trigram_counts\n",
    "\n",
    "# Using the function provided in README\n",
    "sample_text = \"IT IS WHAT IT IS.\"\n",
    "\n",
    "#Apply the trigram model function to the proccessed text and store the result in trigrams\n",
    "trigram_model = create_trigram_model(sample_text)\n",
    "\n",
    "# Printing the trigram counts\n",
    "for trigram, count in trigram_model.items():\n",
    "    print(f\"Trigram: {trigram} | Count: {count}\")\n",
    "\n"
   ]
  },
  {
   "cell_type": "markdown",
   "metadata": {},
   "source": [
    "Every trigram is a sequence of three chars, extracted by iterating throught the text. For each we just update the trigram count in the dictionary."
   ]
  },
  {
   "cell_type": "markdown",
   "metadata": {},
   "source": [
    "TRIGRAM DESIGN FOR MULTIPLE TEXTS "
   ]
  },
  {
   "cell_type": "code",
   "execution_count": 19,
   "metadata": {},
   "outputs": [
    {
     "name": "stdout",
     "output_type": "stream",
     "text": [
      "Unique trigrams: 8698\n",
      "Sample trigrams and counts:\n",
      "'THE': 44141\n",
      "'HE ': 34073\n",
      "'E P': 3719\n",
      "' PR': 3931\n",
      "'PRO': 2597\n",
      "'ROJ': 472\n",
      "'OJE': 472\n",
      "'JEC': 920\n",
      "'ECT': 3174\n",
      "'CT ': 1469\n"
     ]
    }
   ],
   "source": [
    "from collections import defaultdict\n",
    "\n",
    "\n",
    "texts = ['/workspaces/Emerging-Technologies/Data/Frankenstein.txt',\n",
    "         '/workspaces/Emerging-Technologies/Data/mobydick.txt',\n",
    "         '/workspaces/Emerging-Technologies/Data/Pride.txt',\n",
    "         '/workspaces/Emerging-Technologies/Data/Romeo.txt',\n",
    "         '/workspaces/Emerging-Technologies/Data/Scarlet.txt',\n",
    "         '/workspaces/Emerging-Technologies/Data/What to do at the moment.txt']\n",
    "\n",
    "# Initializing a defaultdict to store multiple trigram counts from all texts\n",
    "multiple_trigram_model = defaultdict(int)\n",
    "\n",
    "# Looping through each file in the list\n",
    "for filename in texts:\n",
    "    # Opening current file in read mode with UTF-9 encoding\n",
    "    with open(filename, 'r', encoding='utf-8') as file:\n",
    "        text = file.read() # Reading the entire content of the file\n",
    "        \n",
    "        # Cleans the text and converts it to uppercase\n",
    "        processed_text = preprocess_text(text)  \n",
    "        trigram_model = create_trigram_model(processed_text)  # Assuming create_trigram_model is defined\n",
    "\n",
    "        # Updates the combined trigram model with counts from the current file\n",
    "        for trigram, count in trigram_model.items():\n",
    "            multiple_trigram_model[trigram] += count\n",
    "\n",
    "# Printing the number of unique trigrams\n",
    "print(f\"Unique trigrams: {len(multiple_trigram_model)}\")\n",
    "\n",
    "# Printing a sample of 10 trigrams and their counts\n",
    "print(\"Sample trigrams and counts:\")\n",
    "for trigram, count in list(multiple_trigram_model.items())[:10]:\n",
    "    print(f\"'{trigram}': {count}\")\n"
   ]
  },
  {
   "cell_type": "markdown",
   "metadata": {},
   "source": [
    "SORTING TRIGRAMS BY FREQUENCY\n",
    "\n",
    "Here we sort the trigrams in the multiple trigram model developed by their frequency in descending order."
   ]
  },
  {
   "cell_type": "code",
   "execution_count": 20,
   "metadata": {},
   "outputs": [
    {
     "name": "stdout",
     "output_type": "stream",
     "text": [
      "Top 10 most frequent trigrams:\n",
      "' TH': 52319\n",
      "'THE': 44141\n",
      "'HE ': 34073\n",
      "'ED ': 20152\n",
      "'ND ': 19696\n",
      "'AND': 19694\n",
      "' AN': 19535\n",
      "' OF': 17461\n",
      "'ING': 16840\n",
      "'ER ': 16093\n"
     ]
    }
   ],
   "source": [
    "# Sort trigrams by frequency\n",
    "sorted_trigrams = sorted(multiple_trigram_model.items(), key=lambda x: x[1], reverse=True)\n",
    "\n",
    "# Print the top 10 most frequent trigrams\n",
    "print(\"Top 10 most frequent trigrams:\")\n",
    "for trigram, count in sorted_trigrams[:10]:\n",
    "    print(f\"'{trigram}': {count}\")\n"
   ]
  },
  {
   "cell_type": "markdown",
   "metadata": {},
   "source": [
    "RESULTS AND ANALYSIS SO FAR\n",
    "\n",
    "Now created this trigram model using multiple text files.\n",
    "\n",
    "In this Trigram Model for multiple texts the code reads each text file, processes the text to remove unwanted characters and conver it to uppercase, and then counts how many times the characters are repeated using a 'defaultdict' called 'multiple_trigram_model'.\n",
    "\n",
    "Process Involves\n",
    "\n",
    "1 - Reading files\n",
    "\n",
    "2 - Text preprocessing ( text is cleaned)\n",
    "\n",
    "3 - Trigram counting ( 'create_trigram_model' functions counts the number of times each trigram occurs in the cleaned text)\n",
    "\n",
    "4 - Results ( Each file's trigram counts are added to the overall trigram model)\n",
    "\n",
    "After processing all files we print the number of unique trigrams and a sample of 10 trigrams with their number of occurences.\n",
    "\n",
    "Sorted the trigrams in 'multiple_trigram_model' by their frequency in descending order. This allows us to identify the top 10 most common trigrams across all files, which are printed in the cell above."
   ]
  },
  {
   "cell_type": "markdown",
   "metadata": {},
   "source": []
  }
 ],
 "metadata": {
  "kernelspec": {
   "display_name": "Python 3 (ipykernel)",
   "language": "python",
   "name": "python3"
  },
  "language_info": {
   "codemirror_mode": {
    "name": "ipython",
    "version": 3
   },
   "file_extension": ".py",
   "mimetype": "text/x-python",
   "name": "python",
   "nbconvert_exporter": "python",
   "pygments_lexer": "ipython3",
   "version": "3.12.1"
  }
 },
 "nbformat": 4,
 "nbformat_minor": 2
}
