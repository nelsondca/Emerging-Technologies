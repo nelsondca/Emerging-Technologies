{
 "cells": [
  {
   "cell_type": "markdown",
   "metadata": {},
   "source": [
    "INTRODUCTION\n",
    "\n",
    "This project aims to build a trigram model using text from books available on Project Gutenberg. A trigram is only a group of three characters in a row from a piece of text. Counting how many times each of these three-character sequences shows up, we can start to see patterns in how the English languages is used.\n"
   ]
  },
  {
   "cell_type": "markdown",
   "metadata": {},
   "source": [
    "DATA COLLECTION"
   ]
  },
  {
   "cell_type": "markdown",
   "metadata": {},
   "source": [
    "Reading text books from Project Gutenberg in UTF8 format \n",
    "\n",
    "https://www.gutenberg.org/"
   ]
  },
  {
   "cell_type": "code",
   "execution_count": 1,
   "metadata": {},
   "outputs": [],
   "source": [
    "with open('/workspaces/Emerging-Technologies/Data/Frankenstein.txt' ,'r', encoding='utf-8') as file: #going to the file path and opening the book in read mode, using UTF-8 encoding\n",
    "    text = file.read() #the 'with' ensures the file is closed after reading\n",
    "\n",
    "# Print the frist 500 characters to check if its working\n",
    "# print(\"text sample\", text[:500])"
   ]
  },
  {
   "cell_type": "markdown",
   "metadata": {},
   "source": [
    "TEXT PROCESSING\n",
    "\n",
    "re - Regular Expression Operations \n",
    "\n",
    "https://docs.python.org/3/library/re.html"
   ]
  },
  {
   "cell_type": "code",
   "execution_count": 2,
   "metadata": {},
   "outputs": [],
   "source": [
    "import re # importing regular expressions module to use for pattern matching\n",
    "\n",
    "# Creating a fucntion to process the input text\n",
    "def processed_text(text):\n",
    "\n",
    "    #Removing any unwanted chars that are not letters,periods, or spaces\n",
    "    cleaned_text = re.sub(r'[^A-Za-z. ]', '',text)# [...] this patterns matches any character that is not an uppercase letter, lowecase letter, a period, or a space, and replaces them with an empty string\n",
    "\n",
    "    #Returns the processed text with uppercase\n",
    "    return cleaned_text.upper()\n",
    "\n",
    "#Applies the process function to the text variable\n",
    "processed_text = processed_text(text)\n",
    "\n",
    "#print(\"Processed text sample:\", processed_text[:500])"
   ]
  },
  {
   "cell_type": "markdown",
   "metadata": {},
   "source": [
    "TRIGRAM DESIGN FOR A SINGLE TEXT\n"
   ]
  },
  {
   "cell_type": "markdown",
   "metadata": {},
   "source": [
    "A trigram is a sequence of three characters, so we need to go to through the processe text, grab three characters at a time, and count the number of times they occur. In order to do this we use Python's, defaultdict from the collections module. \n",
    "\n",
    "The defaultdict(int) creates a dictionary where each trigram has a default value of 0.\n",
    "\n",
    "When we find a new trigram, its count starts at 0, and we can increment it directly.\n"
   ]
  },
  {
   "cell_type": "code",
   "execution_count": 16,
   "metadata": {},
   "outputs": [
    {
     "name": "stdout",
     "output_type": "stream",
     "text": [
      "Trigram: IT  | Count: 2\n",
      "Trigram: T I | Count: 3\n",
      "Trigram:  IS | Count: 2\n",
      "Trigram: IS  | Count: 1\n",
      "Trigram: S W | Count: 1\n",
      "Trigram:  WH | Count: 1\n",
      "Trigram: WHA | Count: 1\n",
      "Trigram: HAT | Count: 1\n",
      "Trigram: AT  | Count: 1\n",
      "Trigram:  IT | Count: 1\n",
      "Trigram: IS. | Count: 1\n"
     ]
    }
   ],
   "source": [
    "from collections import defaultdict # Importing dictionary from collections module to create a dictionary with default values\n",
    "\n",
    "# Defining a function to create a trigram model from the input text\n",
    "def create_trigram_model(text):\n",
    "    # Create a dictionary with a default value of 0 which will store the counts of each trigram\n",
    "    trigram_counts = defaultdict(int)\n",
    "\n",
    "    # Loop through the text, stopping 2 characters before the end to form trigrams\n",
    "    for i in range(len(text)-2):\n",
    "\n",
    "        # Extract a trigram starting at position 'i'\n",
    "        trigram = text[i:i+3]\n",
    "\n",
    "        #increment the count of the trigram in the dictionary\n",
    "        trigram_counts[trigram] += 1\n",
    "\n",
    "    # Return the dictionary containing \n",
    "    return trigram_counts\n",
    "\n",
    "# Using the function provided in README\n",
    "sample_text = \"IT IS WHAT IT IS.\"\n",
    "\n",
    "#Apply the trigram model function to the proccessed text and store the result in trigrams\n",
    "trigram_model = create_trigram_model(sample_text)\n",
    "\n",
    "# Printing the trigram counts\n",
    "for trigram, count in trigram_model.items():\n",
    "    print(f\"Trigram: {trigram} | Count: {count}\")\n",
    "\n"
   ]
  },
  {
   "cell_type": "markdown",
   "metadata": {},
   "source": [
    "Every trigram is a sequence of three chars, extracted by iterating throught the text. For each we just update the trigram count in the dictionary."
   ]
  },
  {
   "cell_type": "markdown",
   "metadata": {},
   "source": [
    "TRIGRAM DESIGN FOR MULTIPLE TEXTS "
   ]
  },
  {
   "cell_type": "code",
   "execution_count": 4,
   "metadata": {},
   "outputs": [
    {
     "ename": "NameError",
     "evalue": "name 'defaultdict' is not defined",
     "output_type": "error",
     "traceback": [
      "\u001b[0;31m---------------------------------------------------------------------------\u001b[0m",
      "\u001b[0;31mNameError\u001b[0m                                 Traceback (most recent call last)",
      "Cell \u001b[0;32mIn[4], line 3\u001b[0m\n\u001b[1;32m      1\u001b[0m texts \u001b[38;5;241m=\u001b[39m [\u001b[38;5;124m'\u001b[39m\u001b[38;5;124mFrankeinstein.txt\u001b[39m\u001b[38;5;124m'\u001b[39m, \u001b[38;5;124m'\u001b[39m\u001b[38;5;124mmobydick.txt\u001b[39m\u001b[38;5;124m'\u001b[39m, \u001b[38;5;124m'\u001b[39m\u001b[38;5;124mPride.txt\u001b[39m\u001b[38;5;124m'\u001b[39m, \u001b[38;5;124m'\u001b[39m\u001b[38;5;124mRomeo.txt\u001b[39m\u001b[38;5;124m'\u001b[39m, \u001b[38;5;124m'\u001b[39m\u001b[38;5;124mScarlet.txt\u001b[39m\u001b[38;5;124m'\u001b[39m]\n\u001b[0;32m----> 3\u001b[0m multiple_trigram_model \u001b[38;5;241m=\u001b[39m \u001b[43mdefaultdict\u001b[49m(\u001b[38;5;28mint\u001b[39m)\n\u001b[1;32m      5\u001b[0m \u001b[38;5;28;01mfor\u001b[39;00m filename \u001b[38;5;129;01min\u001b[39;00m text:\n\u001b[1;32m      6\u001b[0m     \u001b[38;5;28;01mwith\u001b[39;00m \u001b[38;5;28mopen\u001b[39m(filename,\u001b[38;5;124m'\u001b[39m\u001b[38;5;124mr\u001b[39m\u001b[38;5;124m'\u001b[39m,encoding\u001b[38;5;241m=\u001b[39m\u001b[38;5;124m'\u001b[39m\u001b[38;5;124mutf-8\u001b[39m\u001b[38;5;124m'\u001b[39m) \u001b[38;5;28;01mas\u001b[39;00m file:\n",
      "\u001b[0;31mNameError\u001b[0m: name 'defaultdict' is not defined"
     ]
    }
   ],
   "source": [
    "texts = ['Frankeinstein.txt', 'mobydick.txt', 'Pride.txt', 'Romeo.txt', 'Scarlet.txt']\n",
    "\n",
    "multiple_trigram_model = defaultdict(int)\n",
    "\n",
    "for filename in text:\n",
    "    with open(filename,'r',encoding='utf-8') as file:\n",
    "        text = file.read()\n",
    "        processed_text = processed_text(text)\n",
    "        trigram_model = create_trigram_model(processed_text)\n",
    "\n",
    "        for trigram, count in trigram_model.items():\n",
    "            multiple_trigram_model[trigram] += count\n",
    "\n",
    "# Printing the number of unique trigrams\n",
    "print(f\"Unique trigrams: {len(multiple_trigram_model)}\")\n",
    "\n",
    "# Printing a sample of 10 trigrams and their counts\n",
    "for trigram, count in list(multiple_trigram_model.items())[:10]:\n",
    "    print(f\"'{trigram}': {count}\")\n",
    "\n"
   ]
  }
 ],
 "metadata": {
  "kernelspec": {
   "display_name": "Python 3",
   "language": "python",
   "name": "python3"
  },
  "language_info": {
   "codemirror_mode": {
    "name": "ipython",
    "version": 3
   },
   "file_extension": ".py",
   "mimetype": "text/x-python",
   "name": "python",
   "nbconvert_exporter": "python",
   "pygments_lexer": "ipython3",
   "version": "3.12.1"
  }
 },
 "nbformat": 4,
 "nbformat_minor": 2
}
