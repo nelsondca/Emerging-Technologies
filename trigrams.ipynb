{
 "cells": [
  {
   "cell_type": "markdown",
   "metadata": {},
   "source": [
    "INTRODUCTION\n",
    "\n",
    "This project aims to build a trigram model using text from books available on Project Gutenberg. A trigram is only a group of three characters in a row from a piece of text. Counting how many times each of these three-character sequences shows up, we can start to see patterns in how the English languages is used.\n"
   ]
  },
  {
   "cell_type": "markdown",
   "metadata": {},
   "source": [
    "DATA COLLECTION"
   ]
  },
  {
   "cell_type": "markdown",
   "metadata": {},
   "source": [
    "Reading text books from Project Gutenberg in UTF8 format \n",
    "\n",
    "https://www.gutenberg.org/"
   ]
  },
  {
   "cell_type": "code",
   "execution_count": 8,
   "metadata": {},
   "outputs": [
    {
     "name": "stdout",
     "output_type": "stream",
     "text": [
      "text sample ﻿The Project Gutenberg eBook of Frankenstein; Or, The Modern Prometheus\n",
      "    \n",
      "This ebook is for the use of anyone anywhere in the United States and\n",
      "most other parts of the world at no cost and with almost no restrictions\n",
      "whatsoever. You may copy it, give it away or re-use it under the terms\n",
      "of the Project Gutenberg License included with this ebook or online\n",
      "at www.gutenberg.org. If you are not located in the United States,\n",
      "you will have to check the laws of the country where you are located\n",
      "befor\n"
     ]
    }
   ],
   "source": [
    "with open('/workspaces/Emerging-Technologies/Data/Frankenstein.txt' ,'r', encoding='utf-8') as file: #going to the file path and opening the book in read mode, using UTF-8 encoding\n",
    "    text = file.read() #the 'with' ensures the file is closed after reading\n",
    "\n",
    "# Print the frist 500 characters to check if its working\n",
    "# print(\"text sample\", text[:500])"
   ]
  },
  {
   "cell_type": "markdown",
   "metadata": {},
   "source": [
    "TEXT PROCESSING\n",
    "\n",
    "re - Regular Expression Operations \n",
    "\n",
    "https://docs.python.org/3/library/re.html"
   ]
  },
  {
   "cell_type": "code",
   "execution_count": 11,
   "metadata": {},
   "outputs": [
    {
     "name": "stdout",
     "output_type": "stream",
     "text": [
      "Processed text sample: THE PROJECT GUTENBERG EBOOK OF FRANKENSTEIN OR THE MODERN PROMETHEUS    THIS EBOOK IS FOR THE USE OF ANYONE ANYWHERE IN THE UNITED STATES ANDMOST OTHER PARTS OF THE WORLD AT NO COST AND WITH ALMOST NO RESTRICTIONSWHATSOEVER. YOU MAY COPY IT GIVE IT AWAY OR REUSE IT UNDER THE TERMSOF THE PROJECT GUTENBERG LICENSE INCLUDED WITH THIS EBOOK OR ONLINEAT WWW.GUTENBERG.ORG. IF YOU ARE NOT LOCATED IN THE UNITED STATESYOU WILL HAVE TO CHECK THE LAWS OF THE COUNTRY WHERE YOU ARE LOCATEDBEFORE USING THIS E\n"
     ]
    }
   ],
   "source": [
    "import re # importing regular expressions module to use for pattern matching\n",
    "\n",
    "# Creating a fucntion to process the input text\n",
    "def processed_text(text):\n",
    "\n",
    "    #Removing any unwanted chars that are not letters,periods, or spaces\n",
    "    cleaned_text = re.sub(r'[^A-Za-z. ]', '',text)# [...] this patterns matches any character that is not an uppercase letter, lowecase letter, a period, or a space, and replaces them with an empty string\n",
    "\n",
    "    #Returns the processed text with uppercase\n",
    "    return cleaned_text.upper()\n",
    "\n",
    "#Applies the process function to the text variable\n",
    "processed_text = processed_text(text)\n",
    "\n",
    "#print(\"Processed text sample:\", processed_text[:500])"
   ]
  },
  {
   "cell_type": "markdown",
   "metadata": {},
   "source": [
    "TRIGRAM MODEL FOR A SINGLE TEXT\n"
   ]
  },
  {
   "cell_type": "markdown",
   "metadata": {},
   "source": [
    "A trigram is a sequence of three characters, so we need to go to through the processe text, grab three characters at a time, and count the number of times they occur."
   ]
  },
  {
   "cell_type": "code",
   "execution_count": 13,
   "metadata": {},
   "outputs": [
    {
     "name": "stdout",
     "output_type": "stream",
     "text": [
      "Sample trigrams and counts:\n",
      "'THE':5887\n",
      "'HE ':4756\n",
      "'E P':509\n",
      "' PR':645\n",
      "'PRO':507\n",
      "'ROJ':92\n",
      "'OJE':92\n",
      "'JEC':167\n",
      "'ECT':611\n",
      "'CT ':256\n"
     ]
    }
   ],
   "source": [
    "from collections import defaultdict # Importing dictionary from collections module to create a dictionary with default values\n",
    "\n",
    "# Defining a function to create a trigram model from the input text\n",
    "def create_trigram_model(text):\n",
    "    # Create a dictionary with a default value of 0 which will store the counts of each trigram\n",
    "    trigram_counts = defaultdict(int)\n",
    "\n",
    "    # Loop through the text, stopping 2 characters before the end to form trigrams\n",
    "    for i in range(len(text)-2):\n",
    "\n",
    "        # Extract a trigram starting at position 'i'\n",
    "        trigram = text[i:i+3]\n",
    "\n",
    "        #increment the count of the trigram in the dictionary\n",
    "        trigram_counts[trigram] += 1\n",
    "\n",
    "    # Return the dictionary containing \n",
    "    return trigram_counts\n",
    "\n",
    "#Apply the trigram model function to the proccessed text and store the result in trigrams\n",
    "trigram_model = create_trigram_model(processed_text)\n",
    "\n",
    "#Printing the first 10 trigram counts\n",
    "print(\"Sample trigrams and counts:\")\n",
    "for trigram,count in list(trigram_model.items())[:10]:\n",
    "    print(f\"'{trigram}':{count}\")"
   ]
  },
  {
   "cell_type": "code",
   "execution_count": null,
   "metadata": {},
   "outputs": [],
   "source": []
  },
  {
   "cell_type": "code",
   "execution_count": null,
   "metadata": {},
   "outputs": [],
   "source": []
  },
  {
   "cell_type": "code",
   "execution_count": null,
   "metadata": {},
   "outputs": [],
   "source": []
  }
 ],
 "metadata": {
  "kernelspec": {
   "display_name": "Python 3",
   "language": "python",
   "name": "python3"
  },
  "language_info": {
   "codemirror_mode": {
    "name": "ipython",
    "version": 3
   },
   "file_extension": ".py",
   "mimetype": "text/x-python",
   "name": "python",
   "nbconvert_exporter": "python",
   "pygments_lexer": "ipython3",
   "version": "3.12.1"
  }
 },
 "nbformat": 4,
 "nbformat_minor": 2
}
